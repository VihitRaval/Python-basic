{
  "nbformat": 4,
  "nbformat_minor": 0,
  "metadata": {
    "colab": {
      "provenance": []
    },
    "kernelspec": {
      "name": "python3",
      "display_name": "Python 3"
    },
    "language_info": {
      "name": "python"
    }
  },
  "cells": [
    {
      "cell_type": "markdown",
      "source": [
        "#Python Basic Questions\n",
        "\n",
        "\n",
        "1. What is python,and why it is popular?\n",
        "     - Python is a high-level, interpreted, general-purpose programming language that is designed to be easy to read, write, and understand. It was created by Guido van Rossum and first released in 1991. Python emphasizes simplicity and readability, using a clean and minimal syntax.\n",
        "     - Why python is popular\n",
        "        1. Easy to Learn and Use\n",
        "           - Simple, readable syntax (almost like plain English).\n",
        "           - Great for beginners as well as professionals.\n",
        "        2. Versatile\n",
        "            - Works for web development, data science, AI/ML, automation, IoT, game development, etc.\n",
        "        3. Extensive Libraries and Frameworks\n",
        "            - Examples:\n",
        "                - Data Science: NumPy, Pandas, Matplotlib\n",
        "                - AI/ML: TensorFlow, PyTorch, Scikit-learn\n",
        "                - Web Development: Django, Flask\n",
        "        4. Cross-Platform\n",
        "            - Runs on Windows, macOS, Linux, and even mobile devices.\n",
        "        5. Large Community Support\n",
        "            - Millions of developers worldwide share solutions, tutorials, and tools.\n",
        "        6. Integration Capabilities\n",
        "            - Can easily integrate with C, C++, Java, databases, and APIs.  "
      ],
      "metadata": {
        "id": "_jvPHQDW5B_E"
      }
    },
    {
      "cell_type": "markdown",
      "source": [
        "2. what is an interpreter in python ?\n",
        "   - An interpreter in Python is a program that reads and executes Python code line by line.\n",
        "   - It translates Python source code into machine-readable instructions so the computer can understand and run it.\n",
        "   - How it Works\n",
        "     - You write code in a .py file or directly in the Python shell.\n",
        "     - The Python interpreter reads the first line, translates it into bytecode, and sends it to the Python Virtual Machine (PVM) for execution.\n",
        "     - It then moves to the next line and repeats the process until the program ends.\n",
        "   - Why Python Uses an Interpreter\n",
        "      - Portability – Same code runs on Windows, macOS, or Linux without changes.\n",
        "      - Ease of Debugging – Errors are detected as soon as the faulty line is executed.\n",
        "      - Interactive Mode – Code can be run directly in a Python shell without saving in a file.\n",
        "   - Example\n",
        "  ```python\n",
        "print(\"Hello, World!\")\n",
        "```\n",
        "    - The interpreter processes the above line immediately and prints:\n",
        "\n",
        "    ```python\n",
        "    Hello, World!\n",
        "    ```\n",
        "    - Key Point\n",
        "          - Although Python is interpreted, it first converts code into bytecode, then executes it using the Python Virtual Machine (PVM).\n"
      ],
      "metadata": {
        "id": "XL-iQFwT95pZ"
      }
    },
    {
      "cell_type": "markdown",
      "source": [
        "3. What are pre-defined keywords in python?\n",
        "  - Pre-defined Keywords in Python\n",
        "    - Definition:\n",
        "Pre-defined keywords in Python are reserved words that have special meanings and purposes in the language.\n",
        "     - They are part of Python’s syntax and cannot be used as variable names, function names, or identifiers.\n",
        "  - Characteristics of Keywords\n",
        "     - Always written in lowercase (except True, False, and None which start with uppercase).\n",
        "     - Cannot be redefined.\n",
        "     - Each has a specific function in Python programming.\n",
        "  - List of Python Keywords (Python 3.10+)\n",
        "```python\n",
        "import keyword\n",
        "print(keyword.kwlist)\n",
        "```\n",
        "  - Output\n",
        "  ```python\n",
        "  ['False', 'None', 'True', 'and', 'as', 'assert', 'async', 'await',\n",
        " 'break', 'class', 'continue', 'def', 'del', 'elif', 'else', 'except',\n",
        " 'finally', 'for', 'from', 'global', 'if', 'import', 'in', 'is', 'lambda',\n",
        " 'nonlocal', 'not', 'or', 'pass', 'raise', 'return', 'try', 'while', 'with', 'yield']\n",
        " ```\n",
        "  - Key Point:\n",
        "    - Keywords are built-in, reserved words in Python that form the building blocks of the language’s syntax."
      ],
      "metadata": {
        "id": "3utrpbYPAeB5"
      }
    },
    {
      "cell_type": "markdown",
      "source": [
        "4. Can keyword be used as variable name ?\n",
        "   - No, a keyword cannot be used as a variable name in Python.\n",
        "   - Reason\n",
        "    - Keywords are reserved words with special meaning in Python’s syntax.\n",
        "    - Using them as variable names would cause confusion for the interpreter and result in a SyntaxError.\n",
        "   - Example\n",
        "   ```python\n",
        "   \"\"\" Wrong: 'for' is a keyword \"\"\"\n",
        "for = 5\n",
        "print(for)\n",
        "```\n",
        "  - Output:\n",
        "  ```python\n",
        "  File \"<stdin>\", line 1\n",
        "    for = 5\n",
        "         ^\n",
        "SyntaxError: invalid syntax\n",
        "```\n",
        "  - Key Poins:\n",
        "    - Keywords are reserved for Python’s own use and must not be used as identifiers like variable names, function names, or class names."
      ],
      "metadata": {
        "id": "skNdeyIBCCBS"
      }
    },
    {
      "cell_type": "markdown",
      "source": [
        "5. What is mutability in python?\n",
        "   - Definition:\n",
        "    Mutability in Python means the ability of an object to change its value or content after it is created, without changing its identity (memory address).\n",
        "   - Mutable Objects\n",
        "    - Their contents can be changed after creation.\n",
        "    - Examples: list, dict, set, bytearray.\n",
        "   - Immutable Objects\n",
        "    - Their contents cannot be changed once created.\n",
        "    - Examples: int, float, str, tuple, frozenset.\n",
        "  - Example of Mutable Object\n",
        "  ```python\n",
        "  numbers = [1, 2, 3]   # list (mutable)\n",
        "numbers[0] = 10       # modifying first element\n",
        "print(numbers)        # Output: [10, 2, 3]\n",
        "```\n",
        "  - Example of Immutable Object\n",
        "  ```python\n",
        "  name = \"Python\"       # string (immutable)\n",
        "name[0] = \"J\"         # ❌ This will cause an error\n",
        "```\n",
        "  - Key Point:\n",
        "    - Mutable → Can change in place (e.g., lists).\n",
        "    - Immutable → Cannot change in place (e.g., strings).\n"
      ],
      "metadata": {
        "id": "7C60m4HTFH07"
      }
    },
    {
      "cell_type": "markdown",
      "source": [
        "6. Why are list mutable, but tuples are immutable?\n",
        "   - Lists (Mutable)\n",
        "    - Reason: Lists are designed to store and modify a collection of items.\n",
        "    - You can add, remove, or change elements after creation.\n",
        "    - Memory Structure: Python stores list elements in a way that allows changes without creating a new object.\n",
        "   - Example:\n",
        "   ```python\n",
        "   my_list = [1, 2, 3]\n",
        "my_list[0] = 10        # Changing first element\n",
        "print(my_list)         # Output: [10, 2, 3]\n",
        "```\n",
        "   - Tuples (Immutable)\n",
        "    - Reason: Tuples are designed to be fixed collections of items.\n",
        "    - Once created, their contents cannot be changed.\n",
        "    - Memory Structure: Python stores tuples in a way that optimizes speed and memory usage, but disallows changes.\n",
        "   - Example:\n",
        "   ```python\n",
        "   my_tuple = (1, 2, 3)\n",
        "my_tuple[0] = 10       # ❌ Not allowed\n",
        "```\n",
        "   - Output\n",
        "   ```python\n",
        "   TypeError: 'tuple' object does not support item assignment\n",
        "   ```\n",
        "  - Key Point:\n",
        "    - Lists are mutable because they are meant for dynamic data that changes over time, while tuples are immutable for fixed, unchanging data."
      ],
      "metadata": {
        "id": "cCoVizyeGj2Q"
      }
    },
    {
      "cell_type": "markdown",
      "source": [
        "7. What is the difference between \"==\" and \"is\" operator in Python?\n",
        "   - Difference between == and is Operator in Python\n",
        "    1. **==** (Equality Operator)\n",
        "      - Checks if the values of two objects are the same.\n",
        "      - It does not care whether they are stored at the same memory location.\n",
        "      - Uses the __eq__() method internally.\n",
        "      - example\n",
        "      ```python\n",
        "      a = [1, 2, 3]\n",
        "b = [1, 2, 3]\n",
        "print(a == b)   # True → values are equal\n",
        "```\n",
        "    2. **is** (Identity Operator)\n",
        "      - Checks if two variables refer to the same object in memory (same identity).\n",
        "      - Returns True only if both variables point to the exact same object.\n",
        "      - example\n",
        "      ```python\n",
        "      a = [1, 2, 3]\n",
        "b = [1, 2, 3]\n",
        "print(a is b)   # False → different objects in memory\n",
        "```\n",
        "  - Key Point:\n",
        "    - **==** → Checks value equality.\n",
        "    - **is** → Checks object identity (same memory location)."
      ],
      "metadata": {
        "id": "JLBqC9MVJIPD"
      }
    },
    {
      "cell_type": "markdown",
      "source": [
        "8. What are logical operators in python?\n",
        "\n",
        "\n",
        "**Definition:**  \n",
        "Logical operators in Python are used to combine conditional statements and return a Boolean value (`True` or `False`).\n",
        "\n",
        "---\n",
        "\n",
        " **Types of Logical Operators**\n",
        "\n",
        "1. **and** → Returns `True` if **both** conditions are true.  \n",
        "2. **or** → Returns `True` if **at least one** condition is true.  \n",
        "3. **not** → Returns `True` if the condition is **false** (reverses the result).\n",
        "\n",
        "---\n",
        "\n",
        "**Example Code**\n",
        "```python\n",
        "# and operator\n",
        "x = 5\n",
        "print(x > 3 and x < 10)   # True (both conditions are true)\n",
        "\n",
        "# or operator\n",
        "print(x > 3 or x < 4)     # True (first condition is true)\n",
        "\n",
        "# not operator\n",
        "print(not(x > 3 and x < 10))  # False (because the original condition is True)\n"
      ],
      "metadata": {
        "id": "b24mIqDJLiiR"
      }
    },
    {
      "cell_type": "markdown",
      "source": [
        "9. What is type casting in python?\n",
        "  - Type casting in Python means converting one data type into another.  \n",
        "It is used when you want to perform operations between different types or store data in a different format.\n",
        "\n",
        "  - There are two types of type casting:\n",
        "    1. Implicit Type Casting (Type Conversion) → Done automatically by Python.\n",
        "    2. Explicit Type Casting → Done manually using functions like int(), float(), str(), list(), etc.\n",
        "\n",
        "```python\n",
        "# Implicit Type Casting\n",
        "x = 5        # int\n",
        "y = 2.5      # float\n",
        "result = x + y  # Python converts int to float automatically\n",
        "print(result)   # Output: 7.5\n",
        "\n",
        "# Explicit Type Casting\n",
        "a = \"10\"\n",
        "b = int(a)      # string to integer\n",
        "print(b + 5)    # Output: 15\n"
      ],
      "metadata": {
        "id": "hIGp_s5gMNnl"
      }
    },
    {
      "cell_type": "markdown",
      "source": [
        "10. What is the difference between implicit and explicit type castinng?\n",
        "- Implicit type casting (also called type conversion) and explicit type casting are two ways in which Python changes the data type of a value.\n",
        "\n",
        "  - **1. Implicit Type Casting (Type Conversion)**  \n",
        "- Done automatically by Python.  \n",
        "- Happens when you perform operations between two different data types and Python converts one type to another to avoid data loss.  \n",
        "- The conversion is usually from a smaller data type to a larger one (e.g., int → float).  \n",
        "- No data is lost and there is no error.\n",
        "\n",
        "  - **2. Explicit Type Casting (Type Conversion)**  \n",
        "- Done manually by the programmer.  \n",
        "- Uses built-in functions like `int()`, `float()`, `str()`, `list()`, `tuple()`, etc.  \n",
        "- You decide exactly how the conversion happens.  \n",
        "- May cause data loss or errors if the conversion is not possible.\n",
        "\n",
        "```python\n",
        "# Implicit Type Casting\n",
        "a = 5        # int\n",
        "b = 2.5      # float\n",
        "c = a + b    # int is automatically converted to float\n",
        "print(c)     # Output: 7.5\n",
        "print(type(c))  # Output: <class 'float'>\n",
        "\n",
        "# Explicit Type Casting\n",
        "x = \"100\"      # string\n",
        "y = int(x)     # manually converting string to integer\n",
        "print(y + 50)  # Output: 150\n",
        "print(type(y)) # Output: <class 'int'>\n"
      ],
      "metadata": {
        "id": "-vMvoHd7MvEd"
      }
    },
    {
      "cell_type": "markdown",
      "source": [],
      "metadata": {
        "id": "DvfBFW6rNjuO"
      }
    },
    {
      "cell_type": "markdown",
      "source": [
        "11. What is the purpose of conditional statements in Python?\n",
        "- Conditional statements in Python are used to make decisions in a program.  \n",
        "They allow the program to execute certain blocks of code only when specific conditions are met, enabling **decision-making and flow control**.\n",
        "\n",
        "**Purpose of Conditional Statements:**\n",
        "- To control the flow of a program based on conditions.\n",
        "- To execute different code blocks for different situations.\n",
        "- To make programs dynamic and interactive.\n",
        "- To avoid unnecessary execution of code when the condition is false.\n",
        "\n",
        "**Types of Conditional Statements in Python:**\n",
        "1. **if statement** → Executes a block of code if the condition is true.\n",
        "2. **if-else statement** → Executes one block if the condition is true, another if false.\n",
        "3. **if-elif-else statement** → Used when multiple conditions need to be checked.\n",
        "4. **Nested if statements** → if statements inside another if statement.\n",
        "\n",
        "```python\n",
        "# Example 1: if statement\n",
        "age = 18\n",
        "if age >= 18:\n",
        "    print(\"You are eligible to vote.\")\n",
        "\n",
        "# Example 2: if-else statement\n",
        "marks = 40\n",
        "if marks >= 35:\n",
        "    print(\"Pass\")\n",
        "else:\n",
        "    print(\"Fail\")\n",
        "\n",
        "# Example 3: if-elif-else statement\n",
        "num = 0\n",
        "if num > 0:\n",
        "    print(\"Positive\")\n",
        "elif num < 0:\n",
        "    print(\"Negative\")\n",
        "else:\n",
        "    print(\"Zero\")\n",
        "\n",
        "# Example 4: Nested if statement\n",
        "x = 15\n",
        "if x > 10:\n",
        "    if x < 20:\n",
        "        print(\"x is between 10 and 20\")\n"
      ],
      "metadata": {
        "id": "yyKazTCMN-Zd"
      }
    },
    {
      "cell_type": "markdown",
      "source": [
        "12. How does the elif statement work?\n",
        "- The `elif` statement in Python is short for **\"else if\"**.  \n",
        "It is used when you want to check **multiple conditions**, one after another, without nesting too many `if` statements.\n",
        "\n",
        "**How `elif` Works:**\n",
        "1. Python checks the first `if` condition.  \n",
        "   - If it is `True`, that block of code runs, and the rest of the conditions are skipped.\n",
        "2. If the first `if` condition is `False`, Python checks the next `elif` condition.  \n",
        "   - If this condition is `True`, that block of code runs, and the rest are skipped.\n",
        "3. You can have multiple `elif` statements.\n",
        "4. If none of the `if` or `elif` conditions are `True`, the `else` block runs (if present).\n",
        "\n",
        "**Purpose:**\n",
        "- To avoid writing multiple separate `if` statements.\n",
        "- To make code more readable and organized when multiple possibilities exist.\n",
        "\n",
        "```python\n",
        "# Example 1: Using elif for multiple conditions\n",
        "score = 85\n",
        "\n",
        "if score >= 90:\n",
        "    print(\"Grade: A\")\n",
        "elif score >= 75:\n",
        "    print(\"Grade: B\")\n",
        "elif score >= 60:\n",
        "    print(\"Grade: C\")\n",
        "else:\n",
        "    print(\"Grade: F\")\n",
        "\n",
        "# Example 2: elif with more than two checks\n",
        "day = \"Wednesday\"\n",
        "\n",
        "if day == \"Monday\":\n",
        "    print(\"Start of the week\")\n",
        "elif day == \"Wednesday\":\n",
        "    print(\"Midweek\")\n",
        "elif day == \"Friday\":\n",
        "    print(\"Weekend is coming\")\n",
        "else:\n",
        "    print(\"Just another day\")\n"
      ],
      "metadata": {
        "id": "rItCZiWQOsUG"
      }
    },
    {
      "cell_type": "markdown",
      "source": [
        "13. What is the difference between for and while loops?\n",
        "- In Python, both `for` and `while` loops are used to repeat a block of code multiple times, but they work differently.\n",
        "\n",
        "**1. for Loop**\n",
        "- Used when you know **exactly** how many times you want the loop to run.\n",
        "- Iterates over a sequence (list, tuple, string, range, etc.).\n",
        "- Automatically stops when it reaches the end of the sequence or range.\n",
        "\n",
        "**2. while Loop**\n",
        "- Used when you **don’t know in advance** how many times the loop should run.\n",
        "- Executes as long as a given condition remains `True`.\n",
        "- You must make sure the condition eventually becomes `False` to avoid an infinite loop.\n",
        "\n",
        "---\n",
        "\n",
        "```python\n",
        "# Example of for loop\n",
        "print(\"For loop output:\")\n",
        "for i in range(1, 6):\n",
        "    print(i)\n",
        "\n",
        "# Example of while loop\n",
        "print(\"\\nWhile loop output:\")\n",
        "count = 1\n",
        "while count <= 5:\n",
        "    print(count)\n",
        "    count += 1\n"
      ],
      "metadata": {
        "id": "Gw4n7_iAPAqa"
      }
    },
    {
      "cell_type": "markdown",
      "source": [
        "14. Describe a scenerio where a while loop is more suitable than a for loop?\n",
        "- A **while loop** is more suitable than a **for loop** when the number of iterations is **not known in advance** and depends on a certain condition being met during execution.\n",
        "\n",
        "**Example Scenario:**  \n",
        "Imagine you are writing a program that keeps asking the user to enter a password until they type the correct one.  \n",
        "- We don’t know how many attempts the user will need.\n",
        "- The loop should keep running until the correct password is entered.\n",
        "- This is a perfect use case for a **while loop**.\n",
        "\n",
        "---\n",
        "\n",
        "**Code Example:**\n",
        "```python\n",
        "print(\"Example Scenario: Asking user for the correct password\")\n",
        "\n",
        "# Simulated password attempts (since we can't take real input in Colab here)\n",
        "attempts = [\"abc\", \"123\", \"password\", \"openai\"]  # 'openai' is the correct password\n",
        "correct_password = \"openai\"\n",
        "index = 0\n",
        "\n",
        "while True:\n",
        "    user_input = attempts[index]\n",
        "    print(f\"Attempt {index + 1}: Entered -> {user_input}\")\n",
        "    \n",
        "    if user_input == correct_password:\n",
        "        print(\"Access Granted!\")\n",
        "        break  # Exit loop if password is correct\n",
        "    \n",
        "    print(\"Incorrect password. Try again.\\n\")\n",
        "    index += 1\n"
      ],
      "metadata": {
        "id": "pGqsk0a1PyRa"
      }
    },
    {
      "cell_type": "markdown",
      "source": [
        "#Practice Questions"
      ],
      "metadata": {
        "id": "g6WZME_xQzzQ"
      }
    },
    {
      "cell_type": "code",
      "source": [
        "#1. Write a Python program to print \"Hello, World!\"\n",
        "print(\"Hello World!\")"
      ],
      "metadata": {
        "colab": {
          "base_uri": "https://localhost:8080/"
        },
        "id": "j5MpOIdYR3y6",
        "outputId": "d4d2c693-2059-483b-bce0-7d301b48e2ee"
      },
      "execution_count": null,
      "outputs": [
        {
          "output_type": "stream",
          "name": "stdout",
          "text": [
            "Hello World!\n"
          ]
        }
      ]
    },
    {
      "cell_type": "code",
      "source": [
        "#2. Write a Python program that displays your name and age.\n",
        "print(\"My name is Vihit Raval\")\n",
        "print(\"My age is 20\")"
      ],
      "metadata": {
        "colab": {
          "base_uri": "https://localhost:8080/"
        },
        "id": "sjGyrZQgSJSF",
        "outputId": "c1fb2e4d-bd05-49c0-da04-3f1ef007f2d2"
      },
      "execution_count": null,
      "outputs": [
        {
          "output_type": "stream",
          "name": "stdout",
          "text": [
            "My name is Vihit Raval\n",
            "My age is 20\n"
          ]
        }
      ]
    },
    {
      "cell_type": "code",
      "source": [
        "#3. Write code to print all the pre-defined keywords in Python using the keyword Library\n",
        "import keyword\n",
        "print(keyword.kwlist)"
      ],
      "metadata": {
        "id": "wsi3OmqDTOM5",
        "colab": {
          "base_uri": "https://localhost:8080/"
        },
        "outputId": "30480e4f-c3df-4e9d-eabc-24265cf8f288"
      },
      "execution_count": 3,
      "outputs": [
        {
          "output_type": "stream",
          "name": "stdout",
          "text": [
            "['False', 'None', 'True', 'and', 'as', 'assert', 'async', 'await', 'break', 'class', 'continue', 'def', 'del', 'elif', 'else', 'except', 'finally', 'for', 'from', 'global', 'if', 'import', 'in', 'is', 'lambda', 'nonlocal', 'not', 'or', 'pass', 'raise', 'return', 'try', 'while', 'with', 'yield']\n"
          ]
        }
      ]
    },
    {
      "cell_type": "code",
      "source": [
        "#4. Write a program that checks if a given word is Python keyword.\n",
        "import keyword\n",
        "keywords = keyword.kwlist\n",
        "word = input(\"Enter a word: \")\n",
        "if word in keywords:\n",
        "    print(f\"{word} is a Python keyword.\")\n",
        "else:\n",
        "    print(f\"{word} is not a Python keyword.\")"
      ],
      "metadata": {
        "colab": {
          "base_uri": "https://localhost:8080/"
        },
        "id": "D076olnFUg4e",
        "outputId": "59e89fca-b6da-4455-ab70-47469be29144"
      },
      "execution_count": 5,
      "outputs": [
        {
          "output_type": "stream",
          "name": "stdout",
          "text": [
            "Enter a word: False\n",
            "False is a Python keyword.\n"
          ]
        }
      ]
    },
    {
      "cell_type": "code",
      "source": [
        "#5. Create a list and tuple in Python,and demonstrate how attempting to change an element works differently for each.\n",
        "list = [\"apple\" , \"banana\" , \"orange\" , \"grapes\" , \"cherry\"]\n",
        "print(\"befor the change list:\", list)\n",
        "list[1] = \"watermelon\"\n",
        "print(\"after the change list:\", list)\n",
        "tuple = (\"apple\" , \"banana\" , \"orange\" , \"grapes\" , \"cherry\")\n",
        "print(\"befor the change tuple:\", tuple)\n",
        "tuple[1] = \"watermelon\"\n",
        "print(\"after the change tuple:\", tuple)\n"
      ],
      "metadata": {
        "colab": {
          "base_uri": "https://localhost:8080/",
          "height": 295
        },
        "id": "J05NJgmDU5KU",
        "outputId": "ae64c543-9a79-41b3-8175-2740b771d059"
      },
      "execution_count": 12,
      "outputs": [
        {
          "output_type": "stream",
          "name": "stdout",
          "text": [
            "befor the change list: ['apple', 'banana', 'orange', 'grapes', 'cherry']\n",
            "after the change list: ['apple', 'watermelon', 'orange', 'grapes', 'cherry']\n",
            "befor the change tuple: ('apple', 'banana', 'orange', 'grapes', 'cherry')\n"
          ]
        },
        {
          "output_type": "error",
          "ename": "TypeError",
          "evalue": "'tuple' object does not support item assignment",
          "traceback": [
            "\u001b[0;31m---------------------------------------------------------------------------\u001b[0m",
            "\u001b[0;31mTypeError\u001b[0m                                 Traceback (most recent call last)",
            "\u001b[0;32m/tmp/ipython-input-1771174743.py\u001b[0m in \u001b[0;36m<cell line: 0>\u001b[0;34m()\u001b[0m\n\u001b[1;32m      6\u001b[0m \u001b[0mtuple\u001b[0m \u001b[0;34m=\u001b[0m \u001b[0;34m(\u001b[0m\u001b[0;34m\"apple\"\u001b[0m \u001b[0;34m,\u001b[0m \u001b[0;34m\"banana\"\u001b[0m \u001b[0;34m,\u001b[0m \u001b[0;34m\"orange\"\u001b[0m \u001b[0;34m,\u001b[0m \u001b[0;34m\"grapes\"\u001b[0m \u001b[0;34m,\u001b[0m \u001b[0;34m\"cherry\"\u001b[0m\u001b[0;34m)\u001b[0m\u001b[0;34m\u001b[0m\u001b[0;34m\u001b[0m\u001b[0m\n\u001b[1;32m      7\u001b[0m \u001b[0mprint\u001b[0m\u001b[0;34m(\u001b[0m\u001b[0;34m\"befor the change tuple:\"\u001b[0m\u001b[0;34m,\u001b[0m \u001b[0mtuple\u001b[0m\u001b[0;34m)\u001b[0m\u001b[0;34m\u001b[0m\u001b[0;34m\u001b[0m\u001b[0m\n\u001b[0;32m----> 8\u001b[0;31m \u001b[0mtuple\u001b[0m\u001b[0;34m[\u001b[0m\u001b[0;36m1\u001b[0m\u001b[0;34m]\u001b[0m \u001b[0;34m=\u001b[0m \u001b[0;34m\"watermelon\"\u001b[0m\u001b[0;34m\u001b[0m\u001b[0;34m\u001b[0m\u001b[0m\n\u001b[0m\u001b[1;32m      9\u001b[0m \u001b[0mprint\u001b[0m\u001b[0;34m(\u001b[0m\u001b[0;34m\"after the change tuple:\"\u001b[0m\u001b[0;34m,\u001b[0m \u001b[0mtuple\u001b[0m\u001b[0;34m)\u001b[0m\u001b[0;34m\u001b[0m\u001b[0;34m\u001b[0m\u001b[0m\n",
            "\u001b[0;31mTypeError\u001b[0m: 'tuple' object does not support item assignment"
          ]
        }
      ]
    },
    {
      "cell_type": "code",
      "source": [
        "#6. Write a function to demonstrate the behaviour of mutable and immutable arguments.\n",
        "def mutable(lst):\n",
        "    lst[1] = \"apple\"\n",
        "    lst[2] = \"banana\"\n",
        "\n",
        "def immutable(tup):\n",
        "    try:\n",
        "        tup[1] = \"apple\"\n",
        "        tup[2] = \"banana\"\n",
        "    except TypeError as e:\n",
        "        print(\"Error:\", e)\n",
        "\n",
        "# Mutable example\n",
        "a = [\"rose\", \"lily\", \"lotus\", \"tulip\"]\n",
        "print(\"Before mutable function:\", a)\n",
        "mutable(a)\n",
        "print(\"After mutable function:\", a)\n",
        "\n",
        "# Immutable example\n",
        "b = (\"rose\", \"lily\", \"lotus\", \"tulip\")\n",
        "print(\"\\nBefore immutable function:\", b)\n",
        "immutable(b)\n",
        "print(\"After immutable function:\", b)  # Unchanged\n",
        "\n"
      ],
      "metadata": {
        "colab": {
          "base_uri": "https://localhost:8080/"
        },
        "id": "AfmJl7IcWC0A",
        "outputId": "a8b6ba7e-a558-44dd-917f-02e315528174"
      },
      "execution_count": 16,
      "outputs": [
        {
          "output_type": "stream",
          "name": "stdout",
          "text": [
            "Before mutable function: ['rose', 'lily', 'lotus', 'tulip']\n",
            "After mutable function: ['rose', 'apple', 'banana', 'tulip']\n",
            "\n",
            "Before immutable function: ('rose', 'lily', 'lotus', 'tulip')\n",
            "Error: 'tuple' object does not support item assignment\n",
            "After immutable function: ('rose', 'lily', 'lotus', 'tulip')\n"
          ]
        }
      ]
    },
    {
      "cell_type": "code",
      "source": [
        "#7. Write a program that performs basic arithmatic operations on two user input numbers.\n",
        "a = input(\"Enter first number: \")\n",
        "b = input(\"Enter second number: \")\n",
        "a = int(a)\n",
        "b = int(b)\n",
        "print(\"Addition:\", a + b)\n",
        "print(\"Subtraction:\", a - b)\n",
        "print(\"Multiplication:\", a * b)\n",
        "print(\"Exponent:\", a ** b)\n",
        "print(\"Division:\", a / b)\n",
        "print(\"Floor Division:\", a // b)\n",
        "print(\"Modulus:\", a % b)"
      ],
      "metadata": {
        "colab": {
          "base_uri": "https://localhost:8080/"
        },
        "id": "zi9GpCyxcVsY",
        "outputId": "5b32033c-447b-4e7a-a741-03b90d05a557"
      },
      "execution_count": 17,
      "outputs": [
        {
          "output_type": "stream",
          "name": "stdout",
          "text": [
            "Enter first number: 4\n",
            "Enter second number: 3\n",
            "Addition: 7\n",
            "Subtraction: 1\n",
            "Multiplication: 12\n",
            "Exponent: 64\n",
            "Division: 1.3333333333333333\n",
            "Floor Division: 1\n",
            "Modulus: 1\n"
          ]
        }
      ]
    },
    {
      "cell_type": "code",
      "source": [
        "#8. Write a program to demonstrate the use of logical operator.\n",
        "\n",
        "age = int(input(\"Enter your age: \"))\n",
        "has_id = input(\"Do you have an ID card? (yes/no): \")\n",
        "is_student = input(\"Are you a student? (yes/no): \")\n",
        "\n",
        "if age >= 18 and has_id:  # Using AND\n",
        "    print(\"Step 1: Basic check passed.\")\n",
        "\n",
        "    if is_student or age < 21:  # Using OR\n",
        "        print(\"Step 2: You are either a student or under 21.\")\n",
        "\n",
        "        if not has_id:  # Using NOT\n",
        "            print(\"Step 3: You must still bring your ID.\")\n",
        "        else:\n",
        "            print(\"Step 3: All checks passed. Access Granted.\")\n",
        "    else:\n",
        "        print(\"Step 2: You must be a student or under 21.\")\n",
        "else:\n",
        "    print(\"Step 1: Basic check failed. Access Denied.\")\n"
      ],
      "metadata": {
        "colab": {
          "base_uri": "https://localhost:8080/"
        },
        "id": "H6k0ntdQ_aNu",
        "outputId": "b0b5ce9d-1c17-4264-f8a8-a58c4a4d8d76"
      },
      "execution_count": 20,
      "outputs": [
        {
          "output_type": "stream",
          "name": "stdout",
          "text": [
            "Enter your age: 12\n",
            "Do you have an ID card? (yes/no): yes\n",
            "Are you a student? (yes/no): yes\n",
            "Step 1: Basic check failed. Access Denied.\n"
          ]
        }
      ]
    },
    {
      "cell_type": "code",
      "source": [
        "#9. Write a python program to convert user input from string to integer, float and boolean types.\n",
        "a = input(\"Enter a number: \")\n",
        "print(type(a))\n",
        "a = int(a)\n",
        "print(type(a))\n",
        "a = float(a)\n",
        "print(type(a))\n",
        "a = bool(a)\n",
        "print(type(a))"
      ],
      "metadata": {
        "colab": {
          "base_uri": "https://localhost:8080/"
        },
        "id": "Sg8NDezkFWJQ",
        "outputId": "1eb1a5e0-8bf8-4533-fa08-d9b4f3d4d2ec"
      },
      "execution_count": 21,
      "outputs": [
        {
          "output_type": "stream",
          "name": "stdout",
          "text": [
            "Enter a number: 34\n",
            "<class 'str'>\n",
            "<class 'int'>\n",
            "<class 'float'>\n",
            "<class 'bool'>\n"
          ]
        }
      ]
    },
    {
      "cell_type": "code",
      "source": [
        "#10. Write a code to demonstrate type casting with list elements.\n",
        "list = [\"10\" , \"20\" , \"30\"]\n",
        "print(list)\n",
        "print(type(list[0]))\n",
        "for i in range(len(list)):\n",
        "    list[i] = int(list[i])\n",
        "print(type(list[0]))\n",
        "list"
      ],
      "metadata": {
        "colab": {
          "base_uri": "https://localhost:8080/"
        },
        "id": "Zp9ieie0Np96",
        "outputId": "f9142766-ae6d-453f-91cf-0e6d0a146de6"
      },
      "execution_count": 28,
      "outputs": [
        {
          "output_type": "stream",
          "name": "stdout",
          "text": [
            "['10', '20', '30']\n",
            "<class 'str'>\n",
            "<class 'int'>\n"
          ]
        },
        {
          "output_type": "execute_result",
          "data": {
            "text/plain": [
              "[10, 20, 30]"
            ]
          },
          "metadata": {},
          "execution_count": 28
        }
      ]
    },
    {
      "cell_type": "code",
      "source": [
        "#11. Write a program that checks if a number is positive , negative or zero.\n",
        "a = input(\"Enter a number: \")\n",
        "a = int(a)\n",
        "if a > 0:\n",
        "    print(\"Number is positive\")\n",
        "elif a < 0:\n",
        "    print(\"Number is negative\")\n",
        "else:\n",
        "    print(\"Number is zero\")"
      ],
      "metadata": {
        "colab": {
          "base_uri": "https://localhost:8080/"
        },
        "id": "fk3C5GZbOmgn",
        "outputId": "1599242e-e219-4762-fb5e-a4a2adfea10c"
      },
      "execution_count": 31,
      "outputs": [
        {
          "output_type": "stream",
          "name": "stdout",
          "text": [
            "Enter a number: 45\n",
            "Number is positive\n"
          ]
        }
      ]
    },
    {
      "cell_type": "code",
      "source": [
        "#12. Write a for loop to print numbers from 1 to 10.\n",
        "for i in range(1 , 11):\n",
        "  print(i)"
      ],
      "metadata": {
        "colab": {
          "base_uri": "https://localhost:8080/"
        },
        "id": "RFtlffyVPy-v",
        "outputId": "4d79310a-0c0d-49b4-d8cf-114c5a9b676f"
      },
      "execution_count": 32,
      "outputs": [
        {
          "output_type": "stream",
          "name": "stdout",
          "text": [
            "1\n",
            "2\n",
            "3\n",
            "4\n",
            "5\n",
            "6\n",
            "7\n",
            "8\n",
            "9\n",
            "10\n"
          ]
        }
      ]
    },
    {
      "cell_type": "code",
      "source": [
        "#13. Write a python program to find the sum of all even numbers between 1 and 50\n",
        "j = 0\n",
        "for i in range(0 , 51 , 2):\n",
        "  j = j + i\n",
        "print(\"The sum of all even numbers from 1 to 50 is:\", j)"
      ],
      "metadata": {
        "colab": {
          "base_uri": "https://localhost:8080/"
        },
        "id": "81qI9WMeQF8s",
        "outputId": "56750f40-ac9d-4889-8b19-cc32bfe2c76c"
      },
      "execution_count": 39,
      "outputs": [
        {
          "output_type": "stream",
          "name": "stdout",
          "text": [
            "The sum of all even numbers from 1 to 50 is: 650\n"
          ]
        }
      ]
    },
    {
      "cell_type": "code",
      "source": [
        "#14. Write a program to reverse a string using a while loop\n",
        "a = input(\"Enter the string which you want to reverse it:\")\n",
        "r_string = \"\"\n",
        "i = len(a) - 1\n",
        "while i >= 0:\n",
        "  r_string = r_string + a[i]\n",
        "  i = i - 1\n",
        "print(\"The reversed string is:\", r_string)\n"
      ],
      "metadata": {
        "colab": {
          "base_uri": "https://localhost:8080/"
        },
        "id": "eeJ4v-dEQetq",
        "outputId": "a5d743b3-6db2-4d58-ef14-9d94a1dc8ce3"
      },
      "execution_count": 40,
      "outputs": [
        {
          "output_type": "stream",
          "name": "stdout",
          "text": [
            "Enter the string which you want to reverse it:vihit\n",
            "The reversed string is: tihiv\n"
          ]
        }
      ]
    },
    {
      "cell_type": "code",
      "source": [
        "#15. Write a python program to calculate the factorial of a number provided by the user using a while loop.\n",
        "a = int(input(\"enter the number:\"))\n",
        "fact = 1\n",
        "i = 1\n",
        "while i <= a:\n",
        "  fact = fact * i\n",
        "  i = i + 1\n",
        "\n",
        "print(\"The factorial of the number is:\", fact)\n"
      ],
      "metadata": {
        "colab": {
          "base_uri": "https://localhost:8080/"
        },
        "id": "TIm_orBWTrT9",
        "outputId": "de12d561-2253-48d1-851c-106bbc9204a2"
      },
      "execution_count": 41,
      "outputs": [
        {
          "output_type": "stream",
          "name": "stdout",
          "text": [
            "enter the number:5\n",
            "The factorial of the number is: 120\n"
          ]
        }
      ]
    }
  ]
}